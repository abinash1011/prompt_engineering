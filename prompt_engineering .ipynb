{
  "nbformat": 4,
  "nbformat_minor": 0,
  "metadata": {
    "colab": {
      "provenance": []
    },
    "kernelspec": {
      "name": "python3",
      "display_name": "Python 3"
    },
    "language_info": {
      "name": "python"
    }
  },
  "cells": [
    {
      "cell_type": "code",
      "source": [
        "!pip install openai"
      ],
      "metadata": {
        "colab": {
          "base_uri": "https://localhost:8080/"
        },
        "id": "-Jke-KEK0D2M",
        "outputId": "093a3da6-1043-4682-b055-35111ad782e1"
      },
      "execution_count": null,
      "outputs": [
        {
          "output_type": "stream",
          "name": "stdout",
          "text": [
            "Looking in indexes: https://pypi.org/simple, https://us-python.pkg.dev/colab-wheels/public/simple/\n",
            "Collecting openai\n",
            "  Downloading openai-0.27.6-py3-none-any.whl (71 kB)\n",
            "\u001b[2K     \u001b[90m━━━━━━━━━━━━━━━━━━━━━━━━━━━━━━━━━━━━━━━━\u001b[0m \u001b[32m71.9/71.9 kB\u001b[0m \u001b[31m2.7 MB/s\u001b[0m eta \u001b[36m0:00:00\u001b[0m\n",
            "\u001b[?25hRequirement already satisfied: requests>=2.20 in /usr/local/lib/python3.10/dist-packages (from openai) (2.27.1)\n",
            "Requirement already satisfied: tqdm in /usr/local/lib/python3.10/dist-packages (from openai) (4.65.0)\n",
            "Collecting aiohttp (from openai)\n",
            "  Downloading aiohttp-3.8.4-cp310-cp310-manylinux_2_17_x86_64.manylinux2014_x86_64.whl (1.0 MB)\n",
            "\u001b[2K     \u001b[90m━━━━━━━━━━━━━━━━━━━━━━━━━━━━━━━━━━━━━━━━\u001b[0m \u001b[32m1.0/1.0 MB\u001b[0m \u001b[31m22.3 MB/s\u001b[0m eta \u001b[36m0:00:00\u001b[0m\n",
            "\u001b[?25hRequirement already satisfied: urllib3<1.27,>=1.21.1 in /usr/local/lib/python3.10/dist-packages (from requests>=2.20->openai) (1.26.15)\n",
            "Requirement already satisfied: certifi>=2017.4.17 in /usr/local/lib/python3.10/dist-packages (from requests>=2.20->openai) (2022.12.7)\n",
            "Requirement already satisfied: charset-normalizer~=2.0.0 in /usr/local/lib/python3.10/dist-packages (from requests>=2.20->openai) (2.0.12)\n",
            "Requirement already satisfied: idna<4,>=2.5 in /usr/local/lib/python3.10/dist-packages (from requests>=2.20->openai) (3.4)\n",
            "Requirement already satisfied: attrs>=17.3.0 in /usr/local/lib/python3.10/dist-packages (from aiohttp->openai) (23.1.0)\n",
            "Collecting multidict<7.0,>=4.5 (from aiohttp->openai)\n",
            "  Downloading multidict-6.0.4-cp310-cp310-manylinux_2_17_x86_64.manylinux2014_x86_64.whl (114 kB)\n",
            "\u001b[2K     \u001b[90m━━━━━━━━━━━━━━━━━━━━━━━━━━━━━━━━━━━━━━\u001b[0m \u001b[32m114.5/114.5 kB\u001b[0m \u001b[31m18.0 MB/s\u001b[0m eta \u001b[36m0:00:00\u001b[0m\n",
            "\u001b[?25hCollecting async-timeout<5.0,>=4.0.0a3 (from aiohttp->openai)\n",
            "  Downloading async_timeout-4.0.2-py3-none-any.whl (5.8 kB)\n",
            "Collecting yarl<2.0,>=1.0 (from aiohttp->openai)\n",
            "  Downloading yarl-1.9.2-cp310-cp310-manylinux_2_17_x86_64.manylinux2014_x86_64.whl (268 kB)\n",
            "\u001b[2K     \u001b[90m━━━━━━━━━━━━━━━━━━━━━━━━━━━━━━━━━━━━━━\u001b[0m \u001b[32m268.8/268.8 kB\u001b[0m \u001b[31m33.1 MB/s\u001b[0m eta \u001b[36m0:00:00\u001b[0m\n",
            "\u001b[?25hCollecting frozenlist>=1.1.1 (from aiohttp->openai)\n",
            "  Downloading frozenlist-1.3.3-cp310-cp310-manylinux_2_5_x86_64.manylinux1_x86_64.manylinux_2_17_x86_64.manylinux2014_x86_64.whl (149 kB)\n",
            "\u001b[2K     \u001b[90m━━━━━━━━━━━━━━━━━━━━━━━━━━━━━━━━━━━━━━\u001b[0m \u001b[32m149.6/149.6 kB\u001b[0m \u001b[31m20.6 MB/s\u001b[0m eta \u001b[36m0:00:00\u001b[0m\n",
            "\u001b[?25hCollecting aiosignal>=1.1.2 (from aiohttp->openai)\n",
            "  Downloading aiosignal-1.3.1-py3-none-any.whl (7.6 kB)\n",
            "Installing collected packages: multidict, frozenlist, async-timeout, yarl, aiosignal, aiohttp, openai\n",
            "Successfully installed aiohttp-3.8.4 aiosignal-1.3.1 async-timeout-4.0.2 frozenlist-1.3.3 multidict-6.0.4 openai-0.27.6 yarl-1.9.2\n"
          ]
        }
      ]
    },
    {
      "cell_type": "code",
      "source": [
        "pip install python-dotenv"
      ],
      "metadata": {
        "colab": {
          "base_uri": "https://localhost:8080/"
        },
        "id": "u9RCtuW5i570",
        "outputId": "e4c70088-4170-438b-8a8b-60807df1b39f"
      },
      "execution_count": null,
      "outputs": [
        {
          "output_type": "stream",
          "name": "stdout",
          "text": [
            "Looking in indexes: https://pypi.org/simple, https://us-python.pkg.dev/colab-wheels/public/simple/\n",
            "Collecting python-dotenv\n",
            "  Downloading python_dotenv-1.0.0-py3-none-any.whl (19 kB)\n",
            "Installing collected packages: python-dotenv\n",
            "Successfully installed python-dotenv-1.0.0\n"
          ]
        }
      ]
    },
    {
      "cell_type": "code",
      "execution_count": null,
      "metadata": {
        "id": "MXjHyEWVzfc8"
      },
      "outputs": [],
      "source": [
        "import openai"
      ]
    },
    {
      "cell_type": "code",
      "source": [
        "import os\n",
        "\n",
        "from dotenv import load_dotenv, find_dotenv\n",
        "_ = load_dotenv(find_dotenv())\n"
      ],
      "metadata": {
        "id": "sLNdNIaTzksu"
      },
      "execution_count": null,
      "outputs": []
    },
    {
      "cell_type": "code",
      "source": [
        "def get_completion(prompt, model=\"gpt-3.5-turbo\"):\n",
        "    messages = [{\"role\": \"user\", \"content\": prompt}]\n",
        "    response = openai.ChatCompletion.create(\n",
        "        model=model,\n",
        "        messages=messages,\n",
        "        temperature=0, # this is the degree of randomness of the model's output\n",
        "    )\n",
        "    return response.choices[0].message[\"content\"]"
      ],
      "metadata": {
        "id": "HHygJZ5HiihB"
      },
      "execution_count": null,
      "outputs": []
    },
    {
      "cell_type": "code",
      "source": [
        "text = f\"\"\"\n",
        "Subject: Mathematics\n",
        "Chapter: Indefinite Integrals\n",
        "Topic: Indefinite Integrals\n",
        "Sub-Topic: Integral of product of integral power of tan x and integral power of sec x\n",
        "Question:\n",
        "Column - If(x)\n",
        "Column - II∫f(x)dx\n",
        "a.\n",
        "1a2+b2−a2−b2cos⁡x\n",
        "b.\n",
        "1a2sin2⁡x+b2cos2⁡x\n",
        "c.\n",
        "1acos⁡x+bsin⁡x\n",
        "d.\n",
        "1a2−b2cos2⁡x\n",
        "\n",
        "\n",
        "\n",
        "\n",
        "Options :\n",
        "1) \n",
        "A-s; B-r; C-p; D-q\n",
        "2)\n",
        "A-p; B-r; C-s; D-q\n",
        "3) \n",
        "A-p; B-q; C-r; D-s\n",
        "4) \n",
        "A-r; B-p; C-s; D-q\n",
        "HINT: \n",
        "\n",
        "Ans: \n",
        "1\n",
        "Solution: \n",
        "(1)\n",
        " \n",
        "I=∫1a2+b2−a2−b2cos⁡xdxputtanx2=t⇒dx=2dt1+t2,cosx=1-t21+t2\n",
        "=2∫dta2+b21+t2−a2−b21−t2=2∫dta22t2+b22=∫dtat2+b2=1abtan-1atb=1abtan−1⁡abtan⁡x2+c\n",
        "(2)\n",
        " \n",
        "∫1a2sin2⁡x+b2cos2⁡xdx=∫x b2+a2tan2⁡xdx=∫dtb2+a2t2puttanx=t=1abtan-1atb=1abtan−1⁡abtan⁡x+c\n",
        "(3)\n",
        " I=∫1acos⁡x+bsin⁡xdx=1a2+b2∫1aa2+b2cos⁡x+ba2+b2sin⁡xdx=1a2+b2∫1sincos⁡x+cossin⁡xdxwhereaa2+b2=sinθ,ba2+b2=cosI=1a2+b2∫cosec⁡(θ+x)dx=1a2+b2logtan(θ+x)2=1a2+b2log⁡tan⁡12x+tan−1⁡ab+c\n",
        "(4)\n",
        " \n",
        "∫x a21+tan2⁡x−b2dxputtan⁡x=t=∫dta21+t2−b2=∫dta2t2+a2−b2=1a2sin⁡αtan−1⁡tan x sin  +c,α=cos−1⁡ba\n",
        "\n",
        "\n",
        "\n",
        "\"\"\"\n",
        "\n",
        "prompt_2 = f\"\"\"\n",
        "Your task is to convert the content in the below Text into symbols and equations into words.\n",
        "\n",
        "use the text in between triple dashes as syntax to understand what you have to do\n",
        "---\n",
        "  sin(x) = sin of x\n",
        "  a-b = a minus b\n",
        "  9×λ = 9 into lambda\n",
        "  a^b = a to the power b\n",
        "---\n",
        "The final output should be only in words. (No symbols, equations or signs allowed)\n",
        "\n",
        "You can take the following text enclosed in triple backticks as a reference.\n",
        "```\n",
        "input:\n",
        "d=0.5mm=0.5×10−3m; ,D=100cm=0.1mposition of IInd dark is at x=3B2=3λD2dB= fringe widthposition 9th bright fringe is y=9×λDdseparation =y−x=9λDd−32λDd=152(λDd)given that y−x=7.5×10−3mso 7.5×10−3=152×λ×0.10.5×10−3so λ=15×10−3×0.5×10−31.5mλ=5×10−6m=5μ m\n",
        "\n",
        "output:\n",
        "d = 0.5 mm = 0.5 multiplied by 10 power - 3m.D = 100 centimeters = 0.1 m . position of second dark is at x = 3 multiplied beta = 3 multiplied by lambda into D2 equals to fringe width position nineth bright fringe is y = 9 into lambda D d. separation = y - x = 9 lambda D d minus thirty two lambda D d = one fifty two lambda D d.given lambda = fifteen into 10 minus 3 into 0.5 into 10 minus thirtyone point 5 m. lambda = 5 into 10 power minus 6 m = 5 micrometer\n",
        "```\n",
        "Text: <{text}>\n",
        "\"\"\"\n",
        "response = get_completion(prompt_2)\n",
        "print(\"\\nCompletion for prompt 2:\")\n",
        "print(response)"
      ],
      "metadata": {
        "colab": {
          "base_uri": "https://localhost:8080/"
        },
        "id": "cIkNgHRTbxxi",
        "outputId": "79c153cb-ac7b-473e-f376-80dcbab181f8"
      },
      "execution_count": null,
      "outputs": [
        {
          "output_type": "stream",
          "name": "stdout",
          "text": [
            "\n",
            "Completion for prompt 2:\n",
            "Column - I: Option (b) 1a2sin2x+b2cos2x\n",
            "Column - II: Option (r) 1abtan^-1(abtan(x/2))+c\n"
          ]
        }
      ]
    },
    {
      "cell_type": "code",
      "source": [
        "text = f\"\"\"\n",
        "Subject: Mathematics\n",
        "Chapter: Indefinite Integrals\n",
        "Topic: Indefinite Integrals\n",
        "Sub-Topic: Integral of product of integral power of tan x and integral power of sec x\n",
        "Question:\n",
        "Column - If(x)\n",
        "Column - II∫f(x)dx\n",
        "a.\n",
        "1a2+b2−a2−b2cos⁡x\n",
        "b.\n",
        "1a2sin2⁡x+b2cos2⁡x\n",
        "c.\n",
        "1acos⁡x+bsin⁡x\n",
        "d.\n",
        "1a2−b2cos2⁡x\n",
        "\n",
        "\n",
        "\n",
        "\n",
        "Options :\n",
        "1) \n",
        "A-s; B-r; C-p; D-q\n",
        "2)\n",
        "A-p; B-r; C-s; D-q\n",
        "3) \n",
        "A-p; B-q; C-r; D-s\n",
        "4) \n",
        "A-r; B-p; C-s; D-q\n",
        "HINT: \n",
        "\n",
        "Ans: \n",
        "1\n",
        "Solution: \n",
        "(1)\n",
        " \n",
        "I=∫1a2+b2−a2−b2cos⁡xdxputtanx2=t⇒dx=2dt1+t2,cosx=1-t21+t2\n",
        "=2∫dta2+b21+t2−a2−b21−t2=2∫dta22t2+b22=∫dtat2+b2=1abtan-1atb=1abtan−1⁡abtan⁡x2+c\n",
        "(2)\n",
        " \n",
        "∫1a2sin2⁡x+b2cos2⁡xdx=∫x b2+a2tan2⁡xdx=∫dtb2+a2t2puttanx=t=1abtan-1atb=1abtan−1⁡abtan⁡x+c\n",
        "(3)\n",
        " I=∫1acos⁡x+bsin⁡xdx=1a2+b2∫1aa2+b2cos⁡x+ba2+b2sin⁡xdx=1a2+b2∫1sincos⁡x+cossin⁡xdxwhereaa2+b2=sinθ,ba2+b2=cosI=1a2+b2∫cosec⁡(θ+x)dx=1a2+b2logtan(θ+x)2=1a2+b2log⁡tan⁡12x+tan−1⁡ab+c\n",
        "(4)\n",
        " \n",
        "∫x a21+tan2⁡x−b2dxputtan⁡x=t=∫dta21+t2−b2=∫dta2t2+a2−b2=1a2sin⁡αtan−1⁡tan x sin  +c,α=cos−1⁡ba\n",
        "\n",
        "\n",
        "\n",
        "\"\"\"\n",
        "\n",
        "prompt_2 = f\"\"\"\n",
        "Your task is to perform the following actions:\n",
        "\n",
        "1 - Read the text and find the lines which contain mathematical expressions.\n",
        "2 - If you donot find any mathematical expressions, return the text as it is.\n",
        "3 - if there is any mathematical expression present, then convert the operations into words.\n",
        "    use the text in between triple dashes as syntax to understand what you have to do\n",
        "    ---\n",
        "      sin(x) = sin of x\n",
        "      a-b = a minus b\n",
        "      9×λ = 9 into lambda\n",
        "      a^b = a to the power b \n",
        "    ---\n",
        "Important: The final output should be only in words. (No symbols, equations or signs allowed)\n",
        "\n",
        "You can take the following text enclosed in triple backticks as a reference.\n",
        "```\n",
        "input:\n",
        "d=0.5mm=0.5×10−3m; ,D=100cm=0.1mposition of IInd dark is at x=3B2=3λD2dB= fringe widthposition 9th bright fringe is y=9×λDdseparation =y−x=9λDd−32λDd=152(λDd)given that y−x=7.5×10−3mso 7.5×10−3=152×λ×0.10.5×10−3so λ=15×10−3×0.5×10−31.5mλ=5×10−6m=5μ m\n",
        "\n",
        "output:\n",
        "d = 0.5 mm = 0.5 multiplied by 10 power - 3m.D = 100 centimeters = 0.1 m . position of second dark is at x = 3 multiplied beta = 3 multiplied by lambda into D2 equals to fringe width position nineth bright fringe is y = 9 into lambda D d. separation = y - x = 9 lambda D d minus thirty two lambda D d = one fifty two lambda D d.given lambda = fifteen into 10 minus 3 into 0.5 into 10 minus thirtyone point 5 m. lambda = 5 into 10 power minus 6 m = 5 micrometer\n",
        "```\n",
        "Text: <{text}>\n",
        "\"\"\"\n",
        "response = get_completion(prompt_2)\n",
        "print(\"\\nCompletion for prompt 2:\")\n",
        "print(response)"
      ],
      "metadata": {
        "colab": {
          "base_uri": "https://localhost:8080/"
        },
        "id": "zOMqVBvWaRFi",
        "outputId": "73692b61-6165-4b55-f983-a48be1b37aa9"
      },
      "execution_count": null,
      "outputs": [
        {
          "output_type": "stream",
          "name": "stdout",
          "text": [
            "\n",
            "Completion for prompt 2:\n",
            "Column - If of x. Column - II integral of f of x dx. Option A - s, B - r, C - p, D - q. \n",
            "Option A - I equals to integral of 1 divided by a square plus b square minus a square minus b square cos of x dx. II equals to 1 divided by a b multiplied by tan inverse of a divided by b multiplied by tan of x by 2 plus c. \n",
            "Option B - I equals to integral of 1 divided by a square sin square of x plus b square cos square of x dx. II equals to 1 divided by a b multiplied by tan inverse of a divided by b multiplied by tan of x plus c. \n",
            "Option C - I equals to integral of 1 divided by a cos of x plus b sin of x dx. II equals to 1 divided by a square plus b square multiplied by integral of sin of x cos of x divided by sin square of x plus cos square of x dx where a square plus b square equals to sin of theta and b a square plus b square equals to cos. I equals to 1 divided by a square plus b square multiplied by log of tan of theta plus x by 2 where theta equals to tan inverse of a divided by b plus c. \n",
            "Option D - I equals to integral of x divided by a square plus tan square of x minus b square dx. II equals to 1 divided by a square multiplied by sine of alpha multiplied by tan inverse of tan of x by sine of alpha plus c where alpha equals to cos inverse of b divided by a.\n"
          ]
        }
      ]
    },
    {
      "cell_type": "code",
      "source": [
        "text = f\"\"\"\n",
        "In Young's double slit experiment the slits are 0.5 mm apart and the interference is observed on a screen at a distance of 100 cm from the slit. It is found that the 9th bright fringe is at a distance of 7.5mm from the second dark fringe from the centre of the fringe pattern on same side. Find the wavelength of the light used.\n",
        "Solution: \n",
        "d=0.5mm=0.5×10−3m; ,D=100cm=0.1mposition of IInd dark is at x=3B2=3λD2dB= fringe widthposition 9th bright fringe is y=9×λDdseparation =y−x=9λDd−32λDd=152(λDd)given that y−x=7.5×10−3mso 7.5×10−3=152×λ×0.10.5×10−3so λ=15×10−3×0.5×10−31.5mλ=5×10−6m=5μ m\n",
        "\n",
        "\"\"\"\n",
        "\n",
        "prompt_2 = f\"\"\"\n",
        "Your task is to perform the following actions:\n",
        "\n",
        "1 - Read the text and find the lines which contain mathematical expressions.\n",
        "2 - If you do not find any mathematical expressions, return the text as it is (this is important).\n",
        "3 - If there is any mathematical expression present, then convert the operations into words.\n",
        "4 - Also if you have a brief which describes the problem statement, output this first, then the math expression in text.\n",
        "use the text in between triple dashes as syntax to understand what you have to do\n",
        "    ---\n",
        "      sin(x) = sin of x\n",
        "      a-b = a minus b\n",
        "      9×λ = 9 into lambda\n",
        "      a^b = a to the power b \n",
        "    ---\n",
        "Important: The final output should be only in words. (No symbols, equations or signs allowed)\n",
        "\n",
        "You can take the following text enclosed in triple backticks as a reference.\n",
        "```\n",
        "input:\n",
        "d=0.5mm=0.5×10−3m; ,D=100cm=0.1mposition of IInd dark is at x=3B2=3λD2dB= fringe widthposition 9th bright fringe is y=9×λDdseparation =y−x=9λDd−32λDd=152(λDd)given that y−x=7.5×10−3mso 7.5×10−3=152×λ×0.10.5×10−3so λ=15×10−3×0.5×10−31.5mλ=5×10−6m=5μ m\n",
        "\n",
        "output:\n",
        "d = 0.5 mm = 0.5 multiplied by 10 power - 3m.D = 100 centimeters = 0.1 m . position of second dark is at x = 3 multiplied beta = 3 multiplied by lambda into D2 equals to fringe width position nineth bright fringe is y = 9 into lambda D d. separation = y - x = 9 lambda D d minus thirty two lambda D d = one fifty two lambda D d.given lambda = fifteen into 10 minus 3 into 0.5 into 10 minus thirtyone point 5 m. lambda = 5 into 10 power minus 6 m = 5 micrometer\n",
        "```\n",
        "Text: <{text}>\n",
        "\"\"\"\n",
        "response = get_completion(prompt_2)\n",
        "print(\"\\nCompletion for prompt 2:\")\n",
        "print(response)"
      ],
      "metadata": {
        "colab": {
          "base_uri": "https://localhost:8080/"
        },
        "id": "n8_WhScZno1U",
        "outputId": "0ac52956-3cdf-49c8-a680-dececf3d9250"
      },
      "execution_count": null,
      "outputs": [
        {
          "output_type": "stream",
          "name": "stdout",
          "text": [
            "\n",
            "Completion for prompt 2:\n",
            "In Young's double slit experiment the slits are 0.5 mm apart and the interference is observed on a screen at a distance of 100 cm from the slit. It is found that the 9th bright fringe is at a distance of 7.5mm from the second dark fringe from the centre of the fringe pattern on same side. Find the wavelength of the light used.\n",
            "Solution: \n",
            "d = 0.5 mm = 0.5 multiplied by 10 power - 3m. D = 100 centimeters = 0.1 m . position of second dark is at x = 3 multiplied beta = 3 multiplied by lambda into D2 equals to fringe width position nineth bright fringe is y = 9 into lambda D d. separation = y - x = 9 lambda D d minus thirty two lambda D d = one fifty two lambda D d. given lambda = fifteen into 10 minus 3 into 0.5 into 10 minus thirtyone point 5 m. lambda = 5 into 10 power minus 6 m = 5 micrometer\n"
          ]
        }
      ]
    },
    {
      "cell_type": "code",
      "source": [
        "text = f\"\"\"\n",
        "Question:\n",
        "Two waves have their amplitudes in the ratio 1:9 .The maximum and minimum intensities when they interfere are in the ratio \n",
        "Options:\n",
        "1) 2516\n",
        "2) 1626\n",
        "3) I9\n",
        "4) 91\n",
        "Correct Answer:\n",
        "1) 2516\n",
        "Solution: \n",
        "ImaxImin=(a1a2+1a1a2−1)2\n",
        "=(19+119−1)2\n",
        "=(54)2=2516\n",
        "\n",
        "\"\"\"\n",
        "\n",
        "prompt_2 = f\"\"\"\n",
        "Your task is to perform the following actions:\n",
        "\n",
        "1 - Read the text and find the lines which contain mathematical expressions.\n",
        "2 - If you do not find any mathematical expressions, return the text as it is (this is important).\n",
        "3 - If there is any mathematical expression present, then convert the operations into words.\n",
        "4 - Also if you have a brief which describes the problem statement, output this first, then the math expression in text.\n",
        "use the text in between triple dashes as syntax to understand what you have to do\n",
        "    ---\n",
        "      sin(x) = sin of x\n",
        "      a-b = a minus b\n",
        "      9×λ = 9 into lambda\n",
        "      a^b = a to the power b \n",
        "    ---\n",
        "Important: The final output should be only in words. (No symbols, equations or signs allowed)\n",
        "\n",
        "You can take the following text enclosed in triple backticks as a reference.\n",
        "```\n",
        "input:\n",
        "d=0.5mm=0.5×10−3m; ,D=100cm=0.1mposition of IInd dark is at x=3B2=3λD2dB= fringe widthposition 9th bright fringe is y=9×λDdseparation =y−x=9λDd−32λDd=152(λDd)given that y−x=7.5×10−3mso 7.5×10−3=152×λ×0.10.5×10−3so λ=15×10−3×0.5×10−31.5mλ=5×10−6m=5μ m\n",
        "\n",
        "output:\n",
        "d = 0.5 mm = 0.5 multiplied by 10 power - 3m.D = 100 centimeters = 0.1 m . position of second dark is at x = 3 multiplied beta = 3 multiplied by lambda into D2 equals to fringe width position nineth bright fringe is y = 9 into lambda D d. separation = y - x = 9 lambda D d minus thirty two lambda D d = one fifty two lambda D d.given lambda = fifteen into 10 minus 3 into 0.5 into 10 minus thirtyone point 5 m. lambda = 5 into 10 power minus 6 m = 5 micrometer\n",
        "```\n",
        "Text: <{text}>\n",
        "\"\"\"\n",
        "response = get_completion(prompt_2)\n",
        "print(\"\\nCompletion for prompt 2:\")\n",
        "print(response)"
      ],
      "metadata": {
        "colab": {
          "base_uri": "https://localhost:8080/"
        },
        "id": "FlfDZYJUnrPt",
        "outputId": "0539c6d5-9d9d-4308-bf5f-ff040630b7b4"
      },
      "execution_count": null,
      "outputs": [
        {
          "output_type": "stream",
          "name": "stdout",
          "text": [
            "\n",
            "Completion for prompt 2:\n",
            "Question: Two waves have their amplitudes in the ratio 1 to 9. The maximum and minimum intensities when they interfere are in the ratio. \n",
            "Options:\n",
            "1) 2516\n",
            "2) 1626\n",
            "3) I9\n",
            "4) 91\n",
            "Correct Answer:\n",
            "1) 2516\n",
            "Solution: \n",
            "I max divided by I min equals to a1 multiplied by a2 plus 1 divided by a1 multiplied by a2 minus 1 whole square equals to 1 multiplied by 9 plus 1 divided by 1 multiplied by 9 minus 1 whole square equals to 5 by 4 whole square equals to 25 by 16. Therefore, I max divided by I min equals to 25 by 16.\n"
          ]
        }
      ]
    },
    {
      "cell_type": "code",
      "source": [
        "text = f\"\"\"\n",
        "Question:\n",
        "Assuming human pupil to have a radius of 0.25 cm and a comfortable viewing distance of 25cm, the minimum separation between two objects that human eye can resolve at 500 nm wavelength is :\n",
        "Options:\n",
        "1) 1μm\n",
        "2) 30μm\n",
        "3) 100μm\n",
        "4) 300μm\n",
        "Correct Answer:\n",
        "2) 30μm\n",
        "Solution: \n",
        "Diameter d=2r=2×0.25=0.5cm, the wavelength of light is λ=500nm=5×10−7m.\n",
        "We have the formula sinθ=1.22λdor\n",
        "sinθ=1.22×5×10−70.5×10−2=1.22×10−4\n",
        "Also D=25cm\n",
        "Let x be the minimum separation between two objects that the human eye can resolve. \n",
        "Thus sinθ=xD\n",
        "or\n",
        "x=Dsinθ=.25×1.22×10−4=30×10−6=30μm\n",
        "\n",
        "\"\"\"\n",
        "\n",
        "prompt_2 = f\"\"\"\n",
        "Your task is to perform the following actions:\n",
        "\n",
        "1 - Read the text and find the lines which contain mathematical expressions.\n",
        "2 - If you do not find any mathematical expressions, return the text as it is (this is important).\n",
        "3 - If there is any mathematical expression present, then convert the operations into words.\n",
        "4 - Also if you have a brief which describes the problem statement, output this first, then the math expression in text.\n",
        "use the text in between triple dashes as syntax to understand what you have to do\n",
        "    ---\n",
        "      sin(x) = sin of x\n",
        "      a-b = a minus b\n",
        "      9×λ = 9 into lambda\n",
        "      a^b = a to the power b \n",
        "    ---\n",
        "Important: The final output should be only in words. (No symbols, equations or signs allowed)\n",
        "\n",
        "You can take the following text enclosed in triple backticks as a reference.\n",
        "```\n",
        "input:\n",
        "d=0.5mm=0.5×10−3m; ,D=100cm=0.1mposition of IInd dark is at x=3B2=3λD2dB= fringe widthposition 9th bright fringe is y=9×λDdseparation =y−x=9λDd−32λDd=152(λDd)given that y−x=7.5×10−3mso 7.5×10−3=152×λ×0.10.5×10−3so λ=15×10−3×0.5×10−31.5mλ=5×10−6m=5μ m\n",
        "\n",
        "output:\n",
        "d = 0.5 mm = 0.5 multiplied by 10 power - 3m.D = 100 centimeters = 0.1 m . position of second dark is at x = 3 multiplied beta = 3 multiplied by lambda into D2 equals to fringe width position nineth bright fringe is y = 9 into lambda D d. separation = y - x = 9 lambda D d minus thirty two lambda D d = one fifty two lambda D d.given lambda = fifteen into 10 minus 3 into 0.5 into 10 minus thirtyone point 5 m. lambda = 5 into 10 power minus 6 m = 5 micrometer\n",
        "```\n",
        "Text: <{text}>\n",
        "\"\"\"\n",
        "response = get_completion(prompt_2)\n",
        "print(\"\\nCompletion for prompt 2:\")\n",
        "print(response)"
      ],
      "metadata": {
        "colab": {
          "base_uri": "https://localhost:8080/"
        },
        "id": "jM10yzIDpR-T",
        "outputId": "9a9bba67-04d4-4ad1-c5e8-85b742184271"
      },
      "execution_count": null,
      "outputs": [
        {
          "output_type": "stream",
          "name": "stdout",
          "text": [
            "\n",
            "Completion for prompt 2:\n",
            "Assuming human pupil to have a radius of 0.25 cm and a comfortable viewing distance of 25 cm, the minimum separation between two objects that human eye can resolve at 500 nm wavelength is:\n",
            "Diameter d = 2r = 2 multiplied by 0.25 = 0.5 cm, the wavelength of light is lambda = 500 nm = 5 multiplied by 10 power - 7 m. We have the formula sin theta = 1.22 lambda d or sin theta = 1.22 multiplied by 5 multiplied by 10 power - 7 divided by 0.5 multiplied by 10 power - 2 = 1.22 multiplied by 10 power - 4. Also D = 25 cm. Let x be the minimum separation between two objects that the human eye can resolve. Thus sin theta = xD or x = D sin theta = 0.25 multiplied by 1.22 multiplied by 10 power - 4 = 30 multiplied by 10 power - 6 = 30 micrometer. Therefore, the correct option is 2) 30μm.\n"
          ]
        }
      ]
    },
    {
      "cell_type": "code",
      "source": [
        "text = f\"\"\"\n",
        "Waves from two different sources overlap near a particular point. The amplitude and the frequency of the two waves are same. The ratio of the intensity when the two waves arrive in phase to that when they arrive 90o out phase is:\n",
        "Options:\n",
        "1) 1 : 1\n",
        "2) 2 : 1\n",
        "3) 2 : 1\n",
        "4) 4 : 1\n",
        "Correct Answer:\n",
        "3) 2 : 1\n",
        "Solution: \n",
        "Given the 2 waves have same amplitude & frequency, this implies that they have the same maximum intensities.\n",
        "∴I=Imaxcos2ϕ/2 \n",
        "where  = phase differenceI = intensity at a point.\n",
        "when in phase, I1=Imaxcos2(0/2)=Imax\n",
        "when 90 out I2=Imaxcos2(π/4)=Imax2 of phase \n",
        "∴I1:I2=2:1\n",
        "\n",
        "\"\"\"\n",
        "\n",
        "prompt_2 = f\"\"\"\n",
        "Your task is to perform the following actions:\n",
        "\n",
        "1 - Read the text and find the lines which contain mathematical expressions.\n",
        "2 - If you do not find any mathematical expressions, return the text as it is (this is important).\n",
        "3 - If there is any mathematical expression present, then convert the operations into words.\n",
        "4 - Also if you have a brief which describes the problem statement, output this first, then the math expression in text.\n",
        "use the text in between triple dashes as syntax to understand what you have to do\n",
        "    ---\n",
        "      sin(x) = sin of x\n",
        "      a-b = a minus b\n",
        "      9×λ = 9 into lambda\n",
        "      a^b = a to the power b \n",
        "    ---\n",
        "Important: The final output should be only in words. (No symbols, equations or signs allowed)\n",
        "\n",
        "You can take the following text enclosed in triple backticks as a reference.\n",
        "```\n",
        "input:\n",
        "d=0.5mm=0.5×10−3m; ,D=100cm=0.1mposition of IInd dark is at x=3B2=3λD2dB= fringe widthposition 9th bright fringe is y=9×λDdseparation =y−x=9λDd−32λDd=152(λDd)given that y−x=7.5×10−3mso 7.5×10−3=152×λ×0.10.5×10−3so λ=15×10−3×0.5×10−31.5mλ=5×10−6m=5μ m\n",
        "\n",
        "output:\n",
        "d = 0.5 mm = 0.5 multiplied by 10 power - 3m.D = 100 centimeters = 0.1 m . position of second dark is at x = 3 multiplied beta = 3 multiplied by lambda into D2 equals to fringe width position nineth bright fringe is y = 9 into lambda D d. separation = y - x = 9 lambda D d minus thirty two lambda D d = one fifty two lambda D d.given lambda = fifteen into 10 minus 3 into 0.5 into 10 minus thirtyone point 5 m. lambda = 5 into 10 power minus 6 m = 5 micrometer\n",
        "```\n",
        "Text: <{text}>\n",
        "\"\"\"\n",
        "response = get_completion(prompt_2)\n",
        "print(\"\\nCompletion for prompt 2:\")\n",
        "print(response)"
      ],
      "metadata": {
        "colab": {
          "base_uri": "https://localhost:8080/"
        },
        "id": "XT5b8VHApURW",
        "outputId": "2e2264eb-d058-40cd-addb-6dfb685b782b"
      },
      "execution_count": null,
      "outputs": [
        {
          "output_type": "stream",
          "name": "stdout",
          "text": [
            "\n",
            "Completion for prompt 2:\n",
            "The ratio of the intensity when the two waves arrive in phase to that when they arrive 90 degrees out phase is: option 1 is to 1, option 2 is to 1, option 3 is to 2, option 4 is to 1. Given the 2 waves have same amplitude and frequency, this implies that they have the same maximum intensities. Therefore, I equals Imax cos 2 phi divided by 2 where phi equals phase difference and I equals intensity at a point. When in phase, I1 equals Imax cos 2(0/2) equals Imax. When 90 degrees out, I2 equals Imax cos 2(pi/4) equals Imax 2 of phase. Therefore, I1 to I2 equals 2 to 1.\n"
          ]
        }
      ]
    },
    {
      "cell_type": "code",
      "source": [],
      "metadata": {
        "id": "GC6Z5Q8gp_cD"
      },
      "execution_count": null,
      "outputs": []
    }
  ]
}